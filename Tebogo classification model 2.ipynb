{
 "cells": [
  {
   "cell_type": "code",
   "execution_count": 4,
   "metadata": {},
   "outputs": [],
   "source": [
    "import numpy as np\n",
    "import pandas as pd\n",
    "from matplotlib import pyplot as plt\n",
    "import datetime\n",
    "import seaborn as sns\n",
    "import pickle\n",
    "from sklearn.metrics import accuracy_score, f1_score\n",
    "from sklearn.metrics import precision_score, recall_score\n",
    "from sklearn.model_selection import train_test_split\n",
    "from sklearn import metrics\n",
    "from sklearn.preprocessing import StandardScaler\n",
    "from sklearn.preprocessing import LabelEncoder\n",
    "from sklearn.metrics import classification_report\n",
    "%matplotlib inline\n",
    "from sklearn.utils import resample\n",
    "import re\n",
    "import nltk\n",
    "from sklearn.linear_model import LogisticRegressionCV\n",
    "from sklearn.multiclass import OneVsRestClassifier\n",
    "from sklearn.feature_extraction.text import TfidfVectorizer\n",
    "from sklearn.feature_extraction.text import CountVectorizer\n",
    "from sklearn.metrics import mean_squared_error, r2_score"
   ]
  },
  {
   "cell_type": "code",
   "execution_count": 5,
   "metadata": {},
   "outputs": [
    {
     "name": "stdout",
     "output_type": "stream",
     "text": [
      "Requirement already satisfied: sqlalchemy in c:\\programdata\\anaconda3\\lib\\site-packages (1.3.9)\n",
      "Requirement already satisfied: pymssql in c:\\programdata\\anaconda3\\lib\\site-packages (2.1.4)\n"
     ]
    }
   ],
   "source": [
    "!pip install sqlalchemy\n",
    "!pip install pymssql"
   ]
  },
  {
   "cell_type": "code",
   "execution_count": 6,
   "metadata": {},
   "outputs": [],
   "source": [
    "import sqlalchemy as sa\n",
    "import pandas as pd\n",
    "from sqlalchemy import create_engine\n"
   ]
  },
  {
   "cell_type": "code",
   "execution_count": 7,
   "metadata": {},
   "outputs": [],
   "source": [
    "Username = 'admin'\n",
    "Password = 'amazing_people'\n",
    "Host = 'alphacode-explore.ccwgqdqrrmvt.eu-west-1.rds.amazonaws.com'\n",
    "Port = '1433'\n",
    "Database = 'Tebogo'"
   ]
  },
  {
   "cell_type": "code",
   "execution_count": 8,
   "metadata": {},
   "outputs": [],
   "source": [
    "connection = create_engine(\n",
    "    'mssql+pymssql://' +\n",
    "    Username + ':' + Password + '@' + Host + ':' + Port + '/' + Database\n",
    ")"
   ]
  },
  {
   "cell_type": "code",
   "execution_count": 9,
   "metadata": {},
   "outputs": [],
   "source": [
    "sql_query1 = \"USE Tebogo Select * from bank_statements\""
   ]
  },
  {
   "cell_type": "code",
   "execution_count": 10,
   "metadata": {},
   "outputs": [
    {
     "data": {
      "text/html": [
       "<div>\n",
       "<style scoped>\n",
       "    .dataframe tbody tr th:only-of-type {\n",
       "        vertical-align: middle;\n",
       "    }\n",
       "\n",
       "    .dataframe tbody tr th {\n",
       "        vertical-align: top;\n",
       "    }\n",
       "\n",
       "    .dataframe thead th {\n",
       "        text-align: right;\n",
       "    }\n",
       "</style>\n",
       "<table border=\"1\" class=\"dataframe\">\n",
       "  <thead>\n",
       "    <tr style=\"text-align: right;\">\n",
       "      <th></th>\n",
       "      <th>Transaction_Date</th>\n",
       "      <th>Posting_Date</th>\n",
       "      <th>Description</th>\n",
       "      <th>Debits</th>\n",
       "      <th>Credits</th>\n",
       "      <th>Category</th>\n",
       "      <th>Column_7</th>\n",
       "      <th>CATEGORIES</th>\n",
       "      <th>Column_9</th>\n",
       "    </tr>\n",
       "  </thead>\n",
       "  <tbody>\n",
       "    <tr>\n",
       "      <td>0</td>\n",
       "      <td>2020/02/10</td>\n",
       "      <td>2020/02/10</td>\n",
       "      <td>MTN DATA BUNDLES</td>\n",
       "      <td>499</td>\n",
       "      <td>None</td>\n",
       "      <td>COMMUNICATION</td>\n",
       "      <td>None</td>\n",
       "      <td>HOME</td>\n",
       "      <td>None</td>\n",
       "    </tr>\n",
       "    <tr>\n",
       "      <td>1</td>\n",
       "      <td>2020/02/08</td>\n",
       "      <td>2020/02/09</td>\n",
       "      <td>APPLE.COM/BILL CORK IE</td>\n",
       "      <td>74.99</td>\n",
       "      <td>None</td>\n",
       "      <td>ENTERTAINMENT &amp; EAT OUT</td>\n",
       "      <td>None</td>\n",
       "      <td>FOOD</td>\n",
       "      <td>None</td>\n",
       "    </tr>\n",
       "    <tr>\n",
       "      <td>2</td>\n",
       "      <td>2020/02/07</td>\n",
       "      <td>2020/02/09</td>\n",
       "      <td>PARKHURST HARDWARE    RE PARKHURST ZA</td>\n",
       "      <td>75</td>\n",
       "      <td>None</td>\n",
       "      <td>HOME</td>\n",
       "      <td>None</td>\n",
       "      <td>TRANSPORT</td>\n",
       "      <td>None</td>\n",
       "    </tr>\n",
       "    <tr>\n",
       "      <td>3</td>\n",
       "      <td>2020/02/07</td>\n",
       "      <td>2020/02/08</td>\n",
       "      <td>SEATTLE RENNIES HOUSE JOHANNESBURG ZA</td>\n",
       "      <td>31.5</td>\n",
       "      <td>None</td>\n",
       "      <td>ENTERTAINMENT &amp; EAT OUT</td>\n",
       "      <td>None</td>\n",
       "      <td>LIFE AND HEALTH</td>\n",
       "      <td>None</td>\n",
       "    </tr>\n",
       "    <tr>\n",
       "      <td>4</td>\n",
       "      <td>2020/02/07</td>\n",
       "      <td>2020/02/08</td>\n",
       "      <td>FLM RENNIE HOUSE EATER BRAAMFONTEIN ZA</td>\n",
       "      <td>29.98</td>\n",
       "      <td>None</td>\n",
       "      <td>ENTERTAINMENT &amp; EAT OUT</td>\n",
       "      <td>None</td>\n",
       "      <td>COMMUNICATION</td>\n",
       "      <td>None</td>\n",
       "    </tr>\n",
       "  </tbody>\n",
       "</table>\n",
       "</div>"
      ],
      "text/plain": [
       "  Transaction_Date Posting_Date                             Description  \\\n",
       "0       2020/02/10   2020/02/10                        MTN DATA BUNDLES   \n",
       "1       2020/02/08   2020/02/09                  APPLE.COM/BILL CORK IE   \n",
       "2       2020/02/07   2020/02/09   PARKHURST HARDWARE    RE PARKHURST ZA   \n",
       "3       2020/02/07   2020/02/08   SEATTLE RENNIES HOUSE JOHANNESBURG ZA   \n",
       "4       2020/02/07   2020/02/08  FLM RENNIE HOUSE EATER BRAAMFONTEIN ZA   \n",
       "\n",
       "  Debits Credits                 Category Column_7       CATEGORIES Column_9  \n",
       "0    499    None            COMMUNICATION     None             HOME     None  \n",
       "1  74.99    None  ENTERTAINMENT & EAT OUT     None             FOOD     None  \n",
       "2     75    None                     HOME     None        TRANSPORT     None  \n",
       "3   31.5    None  ENTERTAINMENT & EAT OUT     None  LIFE AND HEALTH     None  \n",
       "4  29.98    None  ENTERTAINMENT & EAT OUT     None    COMMUNICATION     None  "
      ]
     },
     "execution_count": 10,
     "metadata": {},
     "output_type": "execute_result"
    }
   ],
   "source": [
    "train = pd.read_sql_query(sql_query1, connection)\n",
    "train.head()"
   ]
  },
  {
   "cell_type": "code",
   "execution_count": 11,
   "metadata": {},
   "outputs": [
    {
     "data": {
      "text/html": [
       "<div>\n",
       "<style scoped>\n",
       "    .dataframe tbody tr th:only-of-type {\n",
       "        vertical-align: middle;\n",
       "    }\n",
       "\n",
       "    .dataframe tbody tr th {\n",
       "        vertical-align: top;\n",
       "    }\n",
       "\n",
       "    .dataframe thead th {\n",
       "        text-align: right;\n",
       "    }\n",
       "</style>\n",
       "<table border=\"1\" class=\"dataframe\">\n",
       "  <thead>\n",
       "    <tr style=\"text-align: right;\">\n",
       "      <th></th>\n",
       "      <th>Transaction_Date</th>\n",
       "      <th>Posting_Date</th>\n",
       "      <th>Description</th>\n",
       "      <th>Debits</th>\n",
       "      <th>Credits</th>\n",
       "      <th>Category</th>\n",
       "      <th>Column_7</th>\n",
       "      <th>CATEGORIES</th>\n",
       "      <th>Column_9</th>\n",
       "    </tr>\n",
       "  </thead>\n",
       "  <tbody>\n",
       "    <tr>\n",
       "      <td>938</td>\n",
       "      <td>None</td>\n",
       "      <td>2020-02-02</td>\n",
       "      <td>IBANK PAYMENT</td>\n",
       "      <td>200</td>\n",
       "      <td>None</td>\n",
       "      <td>GIFTS AND DONATIONS</td>\n",
       "      <td>None</td>\n",
       "      <td>None</td>\n",
       "      <td>None</td>\n",
       "    </tr>\n",
       "    <tr>\n",
       "      <td>939</td>\n",
       "      <td>None</td>\n",
       "      <td>2020-02-02</td>\n",
       "      <td>POS PURCHASE               BP Filling Sta</td>\n",
       "      <td>81.6</td>\n",
       "      <td>None</td>\n",
       "      <td>TRANSPORT</td>\n",
       "      <td>None</td>\n",
       "      <td>None</td>\n",
       "      <td>None</td>\n",
       "    </tr>\n",
       "    <tr>\n",
       "      <td>940</td>\n",
       "      <td>None</td>\n",
       "      <td>2020-02-02</td>\n",
       "      <td>POS PURCHASE                   BP Filling Sta</td>\n",
       "      <td>28</td>\n",
       "      <td>None</td>\n",
       "      <td>TRANSPORT</td>\n",
       "      <td>None</td>\n",
       "      <td>None</td>\n",
       "      <td>None</td>\n",
       "    </tr>\n",
       "    <tr>\n",
       "      <td>941</td>\n",
       "      <td>None</td>\n",
       "      <td>2020-02-01</td>\n",
       "      <td>ACB DEBIT:EXTERNAL           VIRGIN ACT</td>\n",
       "      <td>297.5</td>\n",
       "      <td>None</td>\n",
       "      <td>LIFE AND HEALTH</td>\n",
       "      <td>None</td>\n",
       "      <td>None</td>\n",
       "      <td>None</td>\n",
       "    </tr>\n",
       "    <tr>\n",
       "      <td>942</td>\n",
       "      <td>None</td>\n",
       "      <td>2020-02-01</td>\n",
       "      <td>MANAGEMENT FEE</td>\n",
       "      <td>29</td>\n",
       "      <td>None</td>\n",
       "      <td>FEES</td>\n",
       "      <td>None</td>\n",
       "      <td>None</td>\n",
       "      <td>None</td>\n",
       "    </tr>\n",
       "  </tbody>\n",
       "</table>\n",
       "</div>"
      ],
      "text/plain": [
       "    Transaction_Date Posting_Date  \\\n",
       "938             None   2020-02-02   \n",
       "939             None   2020-02-02   \n",
       "940             None   2020-02-02   \n",
       "941             None   2020-02-01   \n",
       "942             None   2020-02-01   \n",
       "\n",
       "                                       Description Debits Credits  \\\n",
       "938                                 IBANK PAYMENT     200    None   \n",
       "939      POS PURCHASE               BP Filling Sta   81.6    None   \n",
       "940  POS PURCHASE                   BP Filling Sta     28    None   \n",
       "941        ACB DEBIT:EXTERNAL           VIRGIN ACT  297.5    None   \n",
       "942                                 MANAGEMENT FEE     29    None   \n",
       "\n",
       "                Category Column_7 CATEGORIES Column_9  \n",
       "938  GIFTS AND DONATIONS     None       None     None  \n",
       "939            TRANSPORT     None       None     None  \n",
       "940            TRANSPORT     None       None     None  \n",
       "941      LIFE AND HEALTH     None       None     None  \n",
       "942                 FEES     None       None     None  "
      ]
     },
     "execution_count": 11,
     "metadata": {},
     "output_type": "execute_result"
    }
   ],
   "source": [
    "train.tail()"
   ]
  },
  {
   "cell_type": "code",
   "execution_count": 12,
   "metadata": {},
   "outputs": [
    {
     "data": {
      "text/plain": [
       "0              communication\n",
       "1    entertainment & eat out\n",
       "2                       home\n",
       "3    entertainment & eat out\n",
       "4    entertainment & eat out\n",
       "Name: Category, dtype: object"
      ]
     },
     "execution_count": 12,
     "metadata": {},
     "output_type": "execute_result"
    }
   ],
   "source": [
    "\n",
    "y=train.Category.apply(lambda x: x.lower())\n",
    "y.head()\n"
   ]
  },
  {
   "cell_type": "code",
   "execution_count": 13,
   "metadata": {},
   "outputs": [
    {
     "data": {
      "text/plain": [
       "transport                  295\n",
       "fees                       216\n",
       "entertainment & eat out    174\n",
       "communication               68\n",
       "food                        42\n",
       "home                        32\n",
       "other                       28\n",
       "short-term credit           27\n",
       "life and health             19\n",
       "saving and investment       17\n",
       "gifts & donations           15\n",
       "education                    7\n",
       "interest                     1\n",
       "gifts and donations          1\n",
       "income                       1\n",
       "Name: Category, dtype: int64"
      ]
     },
     "execution_count": 13,
     "metadata": {},
     "output_type": "execute_result"
    }
   ],
   "source": [
    "y.value_counts()"
   ]
  },
  {
   "cell_type": "code",
   "execution_count": 14,
   "metadata": {},
   "outputs": [
    {
     "data": {
      "text/html": [
       "<div>\n",
       "<style scoped>\n",
       "    .dataframe tbody tr th:only-of-type {\n",
       "        vertical-align: middle;\n",
       "    }\n",
       "\n",
       "    .dataframe tbody tr th {\n",
       "        vertical-align: top;\n",
       "    }\n",
       "\n",
       "    .dataframe thead th {\n",
       "        text-align: right;\n",
       "    }\n",
       "</style>\n",
       "<table border=\"1\" class=\"dataframe\">\n",
       "  <thead>\n",
       "    <tr style=\"text-align: right;\">\n",
       "      <th></th>\n",
       "      <th>Category</th>\n",
       "    </tr>\n",
       "  </thead>\n",
       "  <tbody>\n",
       "    <tr>\n",
       "      <td>transport</td>\n",
       "      <td>295</td>\n",
       "    </tr>\n",
       "    <tr>\n",
       "      <td>fees</td>\n",
       "      <td>216</td>\n",
       "    </tr>\n",
       "    <tr>\n",
       "      <td>entertainment &amp; eat out</td>\n",
       "      <td>174</td>\n",
       "    </tr>\n",
       "    <tr>\n",
       "      <td>communication</td>\n",
       "      <td>68</td>\n",
       "    </tr>\n",
       "    <tr>\n",
       "      <td>food</td>\n",
       "      <td>42</td>\n",
       "    </tr>\n",
       "  </tbody>\n",
       "</table>\n",
       "</div>"
      ],
      "text/plain": [
       "                         Category\n",
       "transport                     295\n",
       "fees                          216\n",
       "entertainment & eat out       174\n",
       "communication                  68\n",
       "food                           42"
      ]
     },
     "execution_count": 14,
     "metadata": {},
     "output_type": "execute_result"
    }
   ],
   "source": [
    "y_unique = y.value_counts()\n",
    "y_unique = pd.DataFrame(y_unique)\n",
    "y_unique.head()"
   ]
  },
  {
   "cell_type": "code",
   "execution_count": 15,
   "metadata": {},
   "outputs": [
    {
     "data": {
      "text/html": [
       "<div>\n",
       "<style scoped>\n",
       "    .dataframe tbody tr th:only-of-type {\n",
       "        vertical-align: middle;\n",
       "    }\n",
       "\n",
       "    .dataframe tbody tr th {\n",
       "        vertical-align: top;\n",
       "    }\n",
       "\n",
       "    .dataframe thead th {\n",
       "        text-align: right;\n",
       "    }\n",
       "</style>\n",
       "<table border=\"1\" class=\"dataframe\">\n",
       "  <thead>\n",
       "    <tr style=\"text-align: right;\">\n",
       "      <th></th>\n",
       "      <th>index</th>\n",
       "      <th>Category</th>\n",
       "    </tr>\n",
       "  </thead>\n",
       "  <tbody>\n",
       "    <tr>\n",
       "      <td>0</td>\n",
       "      <td>transport</td>\n",
       "      <td>295</td>\n",
       "    </tr>\n",
       "    <tr>\n",
       "      <td>1</td>\n",
       "      <td>fees</td>\n",
       "      <td>216</td>\n",
       "    </tr>\n",
       "    <tr>\n",
       "      <td>2</td>\n",
       "      <td>entertainment &amp; eat out</td>\n",
       "      <td>174</td>\n",
       "    </tr>\n",
       "    <tr>\n",
       "      <td>3</td>\n",
       "      <td>communication</td>\n",
       "      <td>68</td>\n",
       "    </tr>\n",
       "    <tr>\n",
       "      <td>4</td>\n",
       "      <td>food</td>\n",
       "      <td>42</td>\n",
       "    </tr>\n",
       "  </tbody>\n",
       "</table>\n",
       "</div>"
      ],
      "text/plain": [
       "                     index  Category\n",
       "0                transport       295\n",
       "1                     fees       216\n",
       "2  entertainment & eat out       174\n",
       "3            communication        68\n",
       "4                     food        42"
      ]
     },
     "execution_count": 15,
     "metadata": {},
     "output_type": "execute_result"
    }
   ],
   "source": [
    "y_unique = y_unique.reset_index(drop=False)\n",
    "y_unique.head()"
   ]
  },
  {
   "cell_type": "code",
   "execution_count": 16,
   "metadata": {},
   "outputs": [
    {
     "data": {
      "text/html": [
       "<div>\n",
       "<style scoped>\n",
       "    .dataframe tbody tr th:only-of-type {\n",
       "        vertical-align: middle;\n",
       "    }\n",
       "\n",
       "    .dataframe tbody tr th {\n",
       "        vertical-align: top;\n",
       "    }\n",
       "\n",
       "    .dataframe thead th {\n",
       "        text-align: right;\n",
       "    }\n",
       "</style>\n",
       "<table border=\"1\" class=\"dataframe\">\n",
       "  <thead>\n",
       "    <tr style=\"text-align: right;\">\n",
       "      <th></th>\n",
       "      <th>index</th>\n",
       "      <th>New_ID</th>\n",
       "    </tr>\n",
       "  </thead>\n",
       "  <tbody>\n",
       "    <tr>\n",
       "      <td>0</td>\n",
       "      <td>transport</td>\n",
       "      <td>0</td>\n",
       "    </tr>\n",
       "    <tr>\n",
       "      <td>1</td>\n",
       "      <td>fees</td>\n",
       "      <td>1</td>\n",
       "    </tr>\n",
       "    <tr>\n",
       "      <td>2</td>\n",
       "      <td>entertainment &amp; eat out</td>\n",
       "      <td>2</td>\n",
       "    </tr>\n",
       "    <tr>\n",
       "      <td>3</td>\n",
       "      <td>communication</td>\n",
       "      <td>3</td>\n",
       "    </tr>\n",
       "    <tr>\n",
       "      <td>4</td>\n",
       "      <td>food</td>\n",
       "      <td>4</td>\n",
       "    </tr>\n",
       "  </tbody>\n",
       "</table>\n",
       "</div>"
      ],
      "text/plain": [
       "                     index  New_ID\n",
       "0                transport       0\n",
       "1                     fees       1\n",
       "2  entertainment & eat out       2\n",
       "3            communication       3\n",
       "4                     food       4"
      ]
     },
     "execution_count": 16,
     "metadata": {},
     "output_type": "execute_result"
    }
   ],
   "source": [
    "y_unique.drop(['Category'], axis=1, inplace=True)  \n",
    "y_unique['New_ID'] = y_unique.index\n",
    "y_unique.head()"
   ]
  },
  {
   "cell_type": "code",
   "execution_count": 17,
   "metadata": {},
   "outputs": [
    {
     "data": {
      "text/plain": [
       "15"
      ]
     },
     "execution_count": 17,
     "metadata": {},
     "output_type": "execute_result"
    }
   ],
   "source": [
    "len(y_unique)"
   ]
  },
  {
   "cell_type": "code",
   "execution_count": 18,
   "metadata": {},
   "outputs": [
    {
     "data": {
      "text/html": [
       "<div>\n",
       "<style scoped>\n",
       "    .dataframe tbody tr th:only-of-type {\n",
       "        vertical-align: middle;\n",
       "    }\n",
       "\n",
       "    .dataframe tbody tr th {\n",
       "        vertical-align: top;\n",
       "    }\n",
       "\n",
       "    .dataframe thead th {\n",
       "        text-align: right;\n",
       "    }\n",
       "</style>\n",
       "<table border=\"1\" class=\"dataframe\">\n",
       "  <thead>\n",
       "    <tr style=\"text-align: right;\">\n",
       "      <th></th>\n",
       "      <th>Category</th>\n",
       "    </tr>\n",
       "  </thead>\n",
       "  <tbody>\n",
       "    <tr>\n",
       "      <td>0</td>\n",
       "      <td>communication</td>\n",
       "    </tr>\n",
       "    <tr>\n",
       "      <td>1</td>\n",
       "      <td>entertainment &amp; eat out</td>\n",
       "    </tr>\n",
       "    <tr>\n",
       "      <td>2</td>\n",
       "      <td>home</td>\n",
       "    </tr>\n",
       "    <tr>\n",
       "      <td>3</td>\n",
       "      <td>entertainment &amp; eat out</td>\n",
       "    </tr>\n",
       "    <tr>\n",
       "      <td>4</td>\n",
       "      <td>entertainment &amp; eat out</td>\n",
       "    </tr>\n",
       "  </tbody>\n",
       "</table>\n",
       "</div>"
      ],
      "text/plain": [
       "                  Category\n",
       "0            communication\n",
       "1  entertainment & eat out\n",
       "2                     home\n",
       "3  entertainment & eat out\n",
       "4  entertainment & eat out"
      ]
     },
     "execution_count": 18,
     "metadata": {},
     "output_type": "execute_result"
    }
   ],
   "source": [
    "y =  pd.DataFrame(y)\n",
    "y.head()"
   ]
  },
  {
   "cell_type": "code",
   "execution_count": 19,
   "metadata": {},
   "outputs": [
    {
     "data": {
      "text/plain": [
       "array(['communication', 'entertainment & eat out', 'home',\n",
       "       'entertainment & eat out', 'entertainment & eat out',\n",
       "       'entertainment & eat out', 'entertainment & eat out',\n",
       "       'entertainment & eat out', 'entertainment & eat out',\n",
       "       'entertainment & eat out', 'saving and investment',\n",
       "       'entertainment & eat out', 'entertainment & eat out',\n",
       "       'entertainment & eat out', 'saving and investment',\n",
       "       'entertainment & eat out', 'entertainment & eat out',\n",
       "       'entertainment & eat out', 'entertainment & eat out', 'other',\n",
       "       'saving and investment', 'life and health', 'other',\n",
       "       'entertainment & eat out', 'entertainment & eat out',\n",
       "       'entertainment & eat out', 'entertainment & eat out',\n",
       "       'life and health', 'saving and investment',\n",
       "       'saving and investment', 'communication', 'life and health',\n",
       "       'short-term credit', 'entertainment & eat out',\n",
       "       'entertainment & eat out', 'entertainment & eat out',\n",
       "       'entertainment & eat out', 'entertainment & eat out',\n",
       "       'entertainment & eat out', 'home', 'entertainment & eat out',\n",
       "       'other', 'home', 'home', 'other', 'other',\n",
       "       'entertainment & eat out', 'entertainment & eat out',\n",
       "       'saving and investment', 'entertainment & eat out',\n",
       "       'entertainment & eat out', 'home', 'entertainment & eat out',\n",
       "       'entertainment & eat out', 'entertainment & eat out',\n",
       "       'entertainment & eat out', 'entertainment & eat out', 'other',\n",
       "       'entertainment & eat out', 'entertainment & eat out', 'transport',\n",
       "       'communication', 'saving and investment', 'transport',\n",
       "       'entertainment & eat out', 'food', 'home', 'transport',\n",
       "       'transport', 'transport', 'transport', 'food', 'transport',\n",
       "       'transport', 'communication', 'fees', 'communication', 'fees',\n",
       "       'fees', 'fees', 'short-term credit', 'short-term credit',\n",
       "       'transport', 'gifts & donations', 'home', 'saving and investment',\n",
       "       'entertainment & eat out', 'entertainment & eat out', 'fees',\n",
       "       'short-term credit', 'communication', 'fees', 'fees', 'transport',\n",
       "       'short-term credit', 'transport', 'transport',\n",
       "       'entertainment & eat out', 'transport', 'transport', 'transport',\n",
       "       'transport', 'transport', 'transport', 'transport', 'fees', 'fees',\n",
       "       'fees', 'entertainment & eat out', 'life and health', 'transport',\n",
       "       'transport', 'transport', 'fees', 'entertainment & eat out',\n",
       "       'entertainment & eat out', 'transport', 'communication',\n",
       "       'transport', 'transport', 'transport', 'transport', 'transport',\n",
       "       'transport', 'transport', 'entertainment & eat out', 'transport',\n",
       "       'transport', 'life and health', 'transport', 'transport',\n",
       "       'entertainment & eat out', 'transport', 'transport', 'transport',\n",
       "       'transport', 'transport', 'transport', 'food', 'fees',\n",
       "       'communication', 'fees', 'transport', 'transport', 'transport',\n",
       "       'transport', 'transport', 'transport', 'communication', 'fees',\n",
       "       'fees', 'transport', 'entertainment & eat out', 'transport',\n",
       "       'entertainment & eat out', 'transport', 'transport', 'transport',\n",
       "       'transport', 'transport', 'transport', 'transport', 'transport',\n",
       "       'fees', 'entertainment & eat out', 'fees', 'fees', 'transport',\n",
       "       'transport', 'fees', 'transport', 'transport', 'food', 'food',\n",
       "       'food', 'food', 'transport', 'transport', 'fees',\n",
       "       'entertainment & eat out', 'food', 'fees', 'fees', 'communication',\n",
       "       'entertainment & eat out', 'communication', 'fees',\n",
       "       'entertainment & eat out', 'communication', 'fees', 'fees', 'fees',\n",
       "       'fees', 'transport', 'communication', 'fees', 'communication',\n",
       "       'fees', 'communication', 'fees', 'short-term credit', 'transport',\n",
       "       'entertainment & eat out', 'transport', 'gifts & donations',\n",
       "       'communication', 'fees', 'home', 'entertainment & eat out',\n",
       "       'entertainment & eat out', 'entertainment & eat out',\n",
       "       'entertainment & eat out', 'fees', 'communication', 'fees',\n",
       "       'transport', 'transport', 'transport', 'transport', 'transport',\n",
       "       'transport', 'short-term credit', 'fees', 'fees', 'fees', 'fees',\n",
       "       'communication', 'fees', 'fees', 'gifts & donations',\n",
       "       'entertainment & eat out', 'transport', 'short-term credit',\n",
       "       'transport', 'entertainment & eat out', 'transport',\n",
       "       'entertainment & eat out', 'entertainment & eat out', 'transport',\n",
       "       'transport', 'transport', 'fees', 'entertainment & eat out',\n",
       "       'transport', 'transport', 'fees', 'fees', 'communication',\n",
       "       'transport', 'entertainment & eat out', 'entertainment & eat out',\n",
       "       'communication', 'fees', 'transport', 'other', 'transport',\n",
       "       'communication', 'fees', 'transport', 'saving and investment',\n",
       "       'transport', 'communication', 'fees', 'food', 'transport',\n",
       "       'communication', 'fees', 'transport', 'communication', 'fees',\n",
       "       'transport', 'transport', 'entertainment & eat out', 'transport',\n",
       "       'transport', 'transport', 'transport', 'fees', 'transport',\n",
       "       'transport', 'entertainment & eat out', 'entertainment & eat out',\n",
       "       'transport', 'entertainment & eat out', 'entertainment & eat out',\n",
       "       'entertainment & eat out', 'fees', 'fees', 'food', 'transport',\n",
       "       'short-term credit', 'transport', 'short-term credit',\n",
       "       'entertainment & eat out', 'transport', 'entertainment & eat out',\n",
       "       'home', 'communication', 'fees', 'short-term credit', 'fees',\n",
       "       'communication', 'fees', 'fees', 'short-term credit', 'transport',\n",
       "       'transport', 'entertainment & eat out', 'transport',\n",
       "       'saving and investment', 'gifts & donations', 'gifts & donations',\n",
       "       'fees', 'entertainment & eat out', 'transport', 'transport',\n",
       "       'transport', 'transport', 'transport', 'entertainment & eat out',\n",
       "       'transport', 'entertainment & eat out', 'life and health',\n",
       "       'education', 'education', 'transport', 'transport', 'transport',\n",
       "       'transport', 'communication', 'transport', 'transport',\n",
       "       'transport', 'fees', 'transport', 'transport', 'transport',\n",
       "       'transport', 'transport', 'transport', 'transport', 'transport',\n",
       "       'transport', 'transport', 'transport', 'transport', 'transport',\n",
       "       'transport', 'transport', 'entertainment & eat out', 'transport',\n",
       "       'transport', 'transport', 'gifts & donations', 'transport',\n",
       "       'transport', 'transport', 'transport', 'food',\n",
       "       'entertainment & eat out', 'communication', 'fees', 'transport',\n",
       "       'transport', 'transport', 'transport', 'transport', 'transport',\n",
       "       'transport', 'entertainment & eat out', 'transport',\n",
       "       'entertainment & eat out', 'fees', 'transport', 'transport',\n",
       "       'transport', 'transport', 'entertainment & eat out', 'transport',\n",
       "       'transport', 'transport', 'transport', 'communication', 'fees',\n",
       "       'fees', 'fees', 'transport', 'entertainment & eat out', 'fees',\n",
       "       'transport', 'transport', 'transport', 'gifts & donations',\n",
       "       'entertainment & eat out', 'transport', 'short-term credit',\n",
       "       'short-term credit', 'transport', 'entertainment & eat out',\n",
       "       'transport', 'home', 'gifts & donations', 'education',\n",
       "       'saving and investment', 'food', 'entertainment & eat out',\n",
       "       'communication', 'entertainment & eat out', 'short-term credit',\n",
       "       'fees', 'fees', 'home', 'education', 'transport', 'food',\n",
       "       'entertainment & eat out', 'entertainment & eat out', 'transport',\n",
       "       'entertainment & eat out', 'fees', 'transport', 'transport',\n",
       "       'transport', 'transport', 'entertainment & eat out',\n",
       "       'entertainment & eat out', 'food', 'food', 'transport',\n",
       "       'entertainment & eat out', 'transport', 'entertainment & eat out',\n",
       "       'transport', 'entertainment & eat out', 'transport',\n",
       "       'entertainment & eat out', 'transport', 'transport',\n",
       "       'entertainment & eat out', 'entertainment & eat out', 'transport',\n",
       "       'fees', 'fees', 'transport', 'transport', 'transport',\n",
       "       'entertainment & eat out', 'food', 'entertainment & eat out',\n",
       "       'transport', 'food', 'entertainment & eat out', 'fees',\n",
       "       'transport', 'transport', 'fees', 'transport', 'communication',\n",
       "       'transport', 'other', 'entertainment & eat out',\n",
       "       'entertainment & eat out', 'transport', 'transport',\n",
       "       'entertainment & eat out', 'transport', 'transport', 'transport',\n",
       "       'fees', 'fees', 'fees', 'other', 'transport', 'communication',\n",
       "       'fees', 'transport', 'entertainment & eat out', 'transport',\n",
       "       'food', 'transport', 'communication', 'fees', 'fees', 'fees',\n",
       "       'entertainment & eat out', 'transport', 'transport', 'transport',\n",
       "       'communication', 'fees', 'fees', 'transport',\n",
       "       'entertainment & eat out', 'transport', 'food', 'transport',\n",
       "       'fees', 'fees', 'fees', 'entertainment & eat out',\n",
       "       'entertainment & eat out', 'entertainment & eat out', 'fees',\n",
       "       'fees', 'transport', 'transport', 'fees',\n",
       "       'entertainment & eat out', 'entertainment & eat out',\n",
       "       'entertainment & eat out', 'entertainment & eat out', 'fees',\n",
       "       'fees', 'transport', 'transport', 'communication', 'fees',\n",
       "       'entertainment & eat out', 'fees', 'fees', 'transport',\n",
       "       'entertainment & eat out', 'fees', 'transport', 'transport',\n",
       "       'transport', 'entertainment & eat out', 'entertainment & eat out',\n",
       "       'fees', 'short-term credit', 'entertainment & eat out',\n",
       "       'transport', 'transport', 'entertainment & eat out', 'fees',\n",
       "       'entertainment & eat out', 'transport', 'entertainment & eat out',\n",
       "       'entertainment & eat out', 'entertainment & eat out', 'transport',\n",
       "       'transport', 'life and health', 'food', 'food', 'transport',\n",
       "       'transport', 'entertainment & eat out', 'home',\n",
       "       'saving and investment', 'food', 'communication', 'fees', 'fees',\n",
       "       'communication', 'short-term credit', 'fees', 'fees', 'fees',\n",
       "       'home', 'entertainment & eat out', 'entertainment & eat out',\n",
       "       'food', 'short-term credit', 'transport', 'transport', 'transport',\n",
       "       'transport', 'transport', 'transport', 'transport',\n",
       "       'entertainment & eat out', 'transport', 'entertainment & eat out',\n",
       "       'entertainment & eat out', 'food', 'entertainment & eat out',\n",
       "       'fees', 'fees', 'entertainment & eat out', 'fees', 'fees', 'fees',\n",
       "       'fees', 'transport', 'transport', 'transport', 'transport',\n",
       "       'transport', 'transport', 'transport', 'transport', 'transport',\n",
       "       'gifts & donations', 'fees', 'fees', 'transport', 'transport',\n",
       "       'transport', 'transport', 'life and health', 'transport',\n",
       "       'transport', 'transport', 'entertainment & eat out',\n",
       "       'entertainment & eat out', 'fees', 'fees', 'transport',\n",
       "       'life and health', 'entertainment & eat out', 'transport', 'fees',\n",
       "       'fees', 'fees', 'entertainment & eat out',\n",
       "       'entertainment & eat out', 'gifts & donations', 'fees', 'fees',\n",
       "       'entertainment & eat out', 'entertainment & eat out', 'food',\n",
       "       'transport', 'transport', 'transport', 'entertainment & eat out',\n",
       "       'fees', 'transport', 'transport', 'fees', 'fees', 'fees',\n",
       "       'transport', 'transport', 'transport', 'transport', 'fees',\n",
       "       'communication', 'fees', 'fees', 'life and health',\n",
       "       'life and health', 'life and health', 'life and health',\n",
       "       'entertainment & eat out', 'transport', 'communication', 'fees',\n",
       "       'entertainment & eat out', 'short-term credit', 'transport',\n",
       "       'transport', 'entertainment & eat out', 'entertainment & eat out',\n",
       "       'communication', 'fees', 'communication', 'fees',\n",
       "       'short-term credit', 'gifts & donations', 'saving and investment',\n",
       "       'entertainment & eat out', 'communication', 'fees',\n",
       "       'communication', 'fees', 'fees', 'gifts & donations', 'fees',\n",
       "       'entertainment & eat out', 'entertainment & eat out',\n",
       "       'life and health', 'saving and investment', 'fees',\n",
       "       'life and health', 'transport', 'transport', 'food', 'transport',\n",
       "       'transport', 'fees', 'fees', 'fees', 'transport',\n",
       "       'entertainment & eat out', 'transport', 'life and health', 'food',\n",
       "       'transport', 'entertainment & eat out', 'entertainment & eat out',\n",
       "       'entertainment & eat out', 'transport', 'fees', 'transport',\n",
       "       'fees', 'fees', 'fees', 'food', 'transport',\n",
       "       'entertainment & eat out', 'entertainment & eat out', 'transport',\n",
       "       'transport', 'entertainment & eat out', 'food', 'fees', 'food',\n",
       "       'life and health', 'food', 'transport', 'transport',\n",
       "       'entertainment & eat out', 'communication', 'short-term credit',\n",
       "       'fees', 'fees', 'gifts & donations', 'gifts & donations',\n",
       "       'transport', 'short-term credit', 'entertainment & eat out',\n",
       "       'transport', 'transport', 'transport', 'food',\n",
       "       'entertainment & eat out', 'fees', 'entertainment & eat out',\n",
       "       'food', 'transport', 'transport', 'communication', 'fees', 'food',\n",
       "       'transport', 'fees', 'education', 'fees', 'transport', 'fees',\n",
       "       'transport', 'life and health', 'fees', 'entertainment & eat out',\n",
       "       'transport', 'transport', 'transport', 'fees', 'transport',\n",
       "       'communication', 'fees', 'communication', 'fees', 'food',\n",
       "       'transport', 'transport', 'entertainment & eat out',\n",
       "       'communication', 'fees', 'entertainment & eat out', 'transport',\n",
       "       'entertainment & eat out', 'entertainment & eat out',\n",
       "       'communication', 'fees', 'communication', 'fees', 'transport',\n",
       "       'communication', 'fees', 'entertainment & eat out',\n",
       "       'entertainment & eat out', 'entertainment & eat out', 'transport',\n",
       "       'entertainment & eat out', 'fees', 'fees', 'communication', 'fees',\n",
       "       'fees', 'home', 'fees', 'fees', 'home', 'home', 'fees',\n",
       "       'transport', 'fees', 'fees', 'fees', 'home', 'transport',\n",
       "       'entertainment & eat out', 'fees', 'home', 'fees', 'home', 'home',\n",
       "       'home', 'fees', 'home', 'communication', 'home', 'home', 'fees',\n",
       "       'fees', 'fees', 'entertainment & eat out', 'fees', 'transport',\n",
       "       'fees', 'fees', 'communication', 'home', 'communication',\n",
       "       'transport', 'home', 'fees', 'transport', 'transport', 'fees',\n",
       "       'fees', 'transport', 'communication', 'fees', 'communication',\n",
       "       'fees', 'other', 'fees', 'fees', 'home', 'fees', 'fees', 'fees',\n",
       "       'home', 'transport', 'fees', 'transport', 'transport', 'transport',\n",
       "       'other', 'other', 'short-term credit', 'fees', 'fees',\n",
       "       'gifts & donations', 'saving and investment', 'fees', 'other',\n",
       "       'fees', 'saving and investment', 'education',\n",
       "       'entertainment & eat out', 'fees', 'home', 'fees', 'fees', 'food',\n",
       "       'food', 'food', 'saving and investment', 'communication', 'fees',\n",
       "       'fees', 'communication', 'communication', 'fees', 'communication',\n",
       "       'food', 'fees', 'fees', 'fees', 'other', 'other', 'other', 'other',\n",
       "       'other', 'fees', 'fees', 'food', 'transport', 'food',\n",
       "       'communication', 'communication', 'interest', 'fees', 'fees',\n",
       "       'fees', 'fees', 'home', 'home', 'communication', 'food', 'home',\n",
       "       'other', 'transport', 'other', 'other', 'communication', 'other',\n",
       "       'fees', 'other', 'short-term credit', 'other', 'fees', 'fees',\n",
       "       'entertainment & eat out', 'short-term credit', 'fees',\n",
       "       'entertainment & eat out', 'communication', 'communication',\n",
       "       'short-term credit', 'fees', 'fees', 'fees',\n",
       "       'entertainment & eat out', 'entertainment & eat out',\n",
       "       'entertainment & eat out', 'short-term credit', 'other', 'fees',\n",
       "       'fees', 'other', 'fees', 'fees', 'fees', 'fees', 'income', 'fees',\n",
       "       'fees', 'communication', 'fees', 'education', 'other', 'other',\n",
       "       'gifts and donations', 'transport', 'transport', 'life and health',\n",
       "       'fees'], dtype=object)"
      ]
     },
     "execution_count": 19,
     "metadata": {},
     "output_type": "execute_result"
    }
   ],
   "source": [
    "y.Category.values"
   ]
  },
  {
   "cell_type": "code",
   "execution_count": 20,
   "metadata": {},
   "outputs": [
    {
     "data": {
      "text/html": [
       "<div>\n",
       "<style scoped>\n",
       "    .dataframe tbody tr th:only-of-type {\n",
       "        vertical-align: middle;\n",
       "    }\n",
       "\n",
       "    .dataframe tbody tr th {\n",
       "        vertical-align: top;\n",
       "    }\n",
       "\n",
       "    .dataframe thead th {\n",
       "        text-align: right;\n",
       "    }\n",
       "</style>\n",
       "<table border=\"1\" class=\"dataframe\">\n",
       "  <thead>\n",
       "    <tr style=\"text-align: right;\">\n",
       "      <th></th>\n",
       "      <th>Category</th>\n",
       "      <th>Item_ID</th>\n",
       "    </tr>\n",
       "  </thead>\n",
       "  <tbody>\n",
       "    <tr>\n",
       "      <td>0</td>\n",
       "      <td>communication</td>\n",
       "      <td>3</td>\n",
       "    </tr>\n",
       "    <tr>\n",
       "      <td>1</td>\n",
       "      <td>entertainment &amp; eat out</td>\n",
       "      <td>2</td>\n",
       "    </tr>\n",
       "    <tr>\n",
       "      <td>2</td>\n",
       "      <td>home</td>\n",
       "      <td>5</td>\n",
       "    </tr>\n",
       "    <tr>\n",
       "      <td>3</td>\n",
       "      <td>entertainment &amp; eat out</td>\n",
       "      <td>2</td>\n",
       "    </tr>\n",
       "    <tr>\n",
       "      <td>4</td>\n",
       "      <td>entertainment &amp; eat out</td>\n",
       "      <td>2</td>\n",
       "    </tr>\n",
       "  </tbody>\n",
       "</table>\n",
       "</div>"
      ],
      "text/plain": [
       "                  Category  Item_ID\n",
       "0            communication        3\n",
       "1  entertainment & eat out        2\n",
       "2                     home        5\n",
       "3  entertainment & eat out        2\n",
       "4  entertainment & eat out        2"
      ]
     },
     "execution_count": 20,
     "metadata": {},
     "output_type": "execute_result"
    }
   ],
   "source": [
    "mapping = dict(y_unique[['index', 'New_ID']].values)\n",
    "y['Item_ID'] = y.Category.map(mapping)\n",
    "y.head()"
   ]
  },
  {
   "cell_type": "code",
   "execution_count": 21,
   "metadata": {},
   "outputs": [
    {
     "data": {
      "text/html": [
       "<div>\n",
       "<style scoped>\n",
       "    .dataframe tbody tr th:only-of-type {\n",
       "        vertical-align: middle;\n",
       "    }\n",
       "\n",
       "    .dataframe tbody tr th {\n",
       "        vertical-align: top;\n",
       "    }\n",
       "\n",
       "    .dataframe thead th {\n",
       "        text-align: right;\n",
       "    }\n",
       "</style>\n",
       "<table border=\"1\" class=\"dataframe\">\n",
       "  <thead>\n",
       "    <tr style=\"text-align: right;\">\n",
       "      <th></th>\n",
       "      <th>Item_ID</th>\n",
       "    </tr>\n",
       "  </thead>\n",
       "  <tbody>\n",
       "    <tr>\n",
       "      <td>0</td>\n",
       "      <td>3</td>\n",
       "    </tr>\n",
       "    <tr>\n",
       "      <td>1</td>\n",
       "      <td>2</td>\n",
       "    </tr>\n",
       "    <tr>\n",
       "      <td>2</td>\n",
       "      <td>5</td>\n",
       "    </tr>\n",
       "    <tr>\n",
       "      <td>3</td>\n",
       "      <td>2</td>\n",
       "    </tr>\n",
       "    <tr>\n",
       "      <td>4</td>\n",
       "      <td>2</td>\n",
       "    </tr>\n",
       "  </tbody>\n",
       "</table>\n",
       "</div>"
      ],
      "text/plain": [
       "   Item_ID\n",
       "0        3\n",
       "1        2\n",
       "2        5\n",
       "3        2\n",
       "4        2"
      ]
     },
     "execution_count": 21,
     "metadata": {},
     "output_type": "execute_result"
    }
   ],
   "source": [
    "y.drop(['Category'], axis=1, inplace=True)\n",
    "y.head()"
   ]
  },
  {
   "cell_type": "code",
   "execution_count": 23,
   "metadata": {},
   "outputs": [
    {
     "data": {
      "text/plain": [
       "943"
      ]
     },
     "execution_count": 23,
     "metadata": {},
     "output_type": "execute_result"
    }
   ],
   "source": [
    "len(y)"
   ]
  },
  {
   "cell_type": "code",
   "execution_count": 24,
   "metadata": {},
   "outputs": [],
   "source": [
    "features = train.Description.values\n",
    "features2 = train.Description.values"
   ]
  },
  {
   "cell_type": "code",
   "execution_count": 25,
   "metadata": {},
   "outputs": [
    {
     "data": {
      "text/plain": [
       "array(['MTN DATA BUNDLES', 'APPLE.COM/BILL CORK IE',\n",
       "       'PARKHURST HARDWARE    RE PARKHURST ZA',\n",
       "       'SEATTLE RENNIES HOUSE JOHANNESBURG ZA',\n",
       "       'FLM RENNIE HOUSE EATER BRAAMFONTEIN ZA'], dtype=object)"
      ]
     },
     "execution_count": 25,
     "metadata": {},
     "output_type": "execute_result"
    }
   ],
   "source": [
    "\n",
    "features[:5]"
   ]
  },
  {
   "cell_type": "code",
   "execution_count": 26,
   "metadata": {},
   "outputs": [
    {
     "name": "stderr",
     "output_type": "stream",
     "text": [
      "[nltk_data] Downloading package stopwords to\n",
      "[nltk_data]     C:\\Users\\Oratile\\AppData\\Roaming\\nltk_data...\n",
      "[nltk_data]   Package stopwords is already up-to-date!\n",
      "[nltk_data] Downloading package wordnet to\n",
      "[nltk_data]     C:\\Users\\Oratile\\AppData\\Roaming\\nltk_data...\n",
      "[nltk_data]   Package wordnet is already up-to-date!\n"
     ]
    },
    {
     "data": {
      "text/plain": [
       "True"
      ]
     },
     "execution_count": 26,
     "metadata": {},
     "output_type": "execute_result"
    }
   ],
   "source": [
    "nltk.download('stopwords')\n",
    "nltk.download('wordnet')"
   ]
  },
  {
   "cell_type": "code",
   "execution_count": 27,
   "metadata": {},
   "outputs": [],
   "source": [
    "from nltk.stem.wordnet import WordNetLemmatizer \n",
    "from nltk.stem.porter import PorterStemmer\n",
    "from nltk.corpus import stopwords\n",
    "\n",
    "lem = WordNetLemmatizer()\n",
    "# ps = PorterStemmer()\n",
    "corpus =[]\n",
    "# cleaning text\n",
    "for i in range(0,len(features)):\n",
    "\n",
    "    item = re.sub('[^a-zA-Z]', ' ',str(features)) \n",
    "    item = item.lower()\n",
    "    item = item.split()\n",
    "    stop_wrds = set(stopwords.words('english'))\n",
    "    item = [lem.lemmatize(word, \"v\") for word in item if not word in stop_wrds]\n",
    "    item = ' '.join(item)\n",
    "    corpus.append(item)\n",
    "\n",
    "new_features = corpus"
   ]
  },
  {
   "cell_type": "code",
   "execution_count": 28,
   "metadata": {},
   "outputs": [
    {
     "data": {
      "text/plain": [
       "'mtn data bundle apple com bill cork ie parkhurst hardware parkhurst za seattle rennies house johannesburg za flm rennie house eater braamfontein za flm rennie house eater braamfontein za flm rennie house eater braamfontein za flm rennie house eater braamfontein za seattle rennies house johannesburg za flm rennie house eater braamfontein za property rondebosch za seattle rennies house johannesburg za flm rennie house eater braamfontein za flm rennie house eater braamfontein za investecpb apple com bill itunes com ie bloom coffee studio cape town za seattle rennies house johannesburg za flm rennie house eater braamfontein za investecpb admed admed taxassist netcash seattle rennies house johannesburg za flm rennie house eater braamfontein za flm rennie house eater braamfontein za bolton rd collection parkview za virgin act rent levy mtn sp disc prem discovery vir atl vir atl gb amzn digital ch w kv us foundry cafe parktown nort za seattle rennies house johannesburg za flm rennie house eater braamfontein za moregolf pmg curr outsurance ot fz seattle rennies house johannesburg za atmsol termloc fu bruma za rent rent merchant place sandton za jetline hydepark johannesburg za fego cafe rmb sandton za seattle rennies house johannesburg za absa bank neom long rent motherland coffee compan sandton za motherland coffee compan sandton za pool team craighall craighall za bloom coffee studio cape town za bloom coffee studio cape town za seattle rennies house johannesburg za seattle rennies house johannesburg za flm rennie house eater braamfontein za budget vap jan prem amzn digital l ci z us flm rennie house eater braamfontein za intellepark rosebank za mtn data bundle tshifhiwa rent minty sasol rosebank parkwood za seattle rennies house johannesburg za woolworths parktown qua johannesburg za hours vet clinic parktown nort za uber sa hel jul uber sa hel jul shell champion uber sa gauteng zaf h checker bram fischer bolt eu jul bolt eu jul vod prepay fee pre pay top vod prepay fee pre pay top intl trans f intl trans f reblake wesbank fi wesbank fi nsiki karen steelsmith plan ib transfer liquorshop bram fische theunlimited aup fee e comm speccreditfevertree telkommobi overdraft service fee fix monthly fee iwyze prm sbsanaedo uber sa hel jul uber sa hel jul ucount uber sa hel jul c bp ontdekke aug uber sa hel jul bolt eu jul bolt eu jul uber sa hel jul uber sa hel jul intl trans f intl trans f fee bank atm xai xai lounge c sorbet nail aug bolt eu aug uber sa hel aug bp hans strydom intl trans f u takealot co aug c melville co aug uber sa hel aug u payfast coo aug uber sa hel aug uber sa hel aug uber sa hel aug uber sa hel aug uber sa hel aug uber sa hel aug uber sa hel aug c xai xai lou aug uber sa hel aug uber sa hel aug c click cant aug uber sa hel aug uber sa hel aug c hell kitc aug uber sa hel aug uber sa hel aug uber sa hel aug uber sa hel aug uber sa hel aug bolt eu aug checker bram fischer intl trans f vod prepay fee pre pay top uber sa hel aug uber sa hel aug bolt eu aug uber sa hel aug uber sa hel aug uber sa hel aug vod prepay fee pre pay top intl trans f uber sa gauteng zaf h pnp exp ha randburg zaf h uber sa hel aug u takealot aug uber sa gauteng zaf h uber sa gauteng zaf h uber sa hel aug uber sa hel aug uber sa hel aug uber sa hel aug uber sa hel aug uber sa gauteng zaf h fee e comm c kbs coffee aug fee e comm fee e comm c caltex fact aug uber sa gauteng zaf h fee e comm uber sa gauteng zaf h uber sa gauteng zaf h woolworths aug checker b sb zaf h checker b sb zaf h checker b sb zaf h c caltex fact aug c caltex facto fee e comm pnp exp linden park checker bram fischer fee e comm fee e comm u payfast aug pnp express h aug vod prepay fee pre pay top smokers deli melville vod prepay fee pre pay top overdraft interest bolt eu tallinn zaf h bolt eu tallinn zaf h uber sa hel aug vod prepay fee pre pay top vod prepay fee pre pay top vod prepay fee pre pay top wesbank fi bolt eu aug pnp express h aug c bp hans str aug nsiki vod prepay fee pre pay top karen steelsmith liquor city melville moyo zoo lake pty lt liquorshop bram fische theunlimited aup intl trans f vod prepay fee pre pay top wesbank fi bolt eu aug bolt eu aug uber sa hel aug bolt eu aug bolt eu aug speccreditfevertree intl trans f intl trans f intl trans f intl trans f telkommobi overdraft service fee fix monthly fee momma liquorshop bram fische iwyze prm sbsanaedo uber sa hel aug liquorshop br aug uber sa hel aug ucount netflix com aug uber sa hel aug uber sa hel aug total ra william nicol intl trans f u takealot co sep uber sa hel sep bolt eu sep fee e comm intl trans f u payfast coo sep uber sa hel sep pnp exp ha randburg zaf h pnp express h sep vod prepay fee pre pay top uber sa help sep c chamdor ser sep uber sa help sep vod prepay fee pre pay top uber sa hel sep uber sa hel sep vod prepay fee pre pay top c eleven fa sep uber eat sep vod prepay fee pre pay top uber sa hel sep vod prepay fee pre pay top uber sa hel sep uber sa hel sep six restau johannesburg zaf uber sa gauteng zaf h uber sa hel sep bolt eu sep uber sa gauteng zaf h intl trans f uber sa hel sep uber sa hel sep c six restaur sep spotifyza stockholm sen h uber sa hel sep pnp express h sep spotifyza stockholm sen h spotifyza stockholm sen h overdraft interest excess interest checker bram fischer uber sa hel sep reblake wesbank fi wesbank fi theunlimited aup uber sa hel sep spotifyza sep karen steelsmith vod prepay fee pre pay top speccreditfevertree intl trans f telkommobi overdraft service fee fix monthly fee sbsanaedo iwyze prm uber sa hel sep netflix com sep uber sa hel sep baby momma intl trans f ucount c caltex fact oct uber sa hel sep uber sa hel sep uber sa hel sep uber sa hel sep c dukes burge sep uber sa hel sep c ballbreaker sep c pg glass fo sep claassen claassen claassen claassen train uber sa hel sep uber sa hel sep uber sa hel oct uber sa hel oct u payfast coo oct uber sa hel oct uber sa hel oct uber sa hel oct fee bank atm uber sa hel oct uber sa hel oct uber sa hel oct uber sa hel oct c cltx ruhama oct uber sa hel oct uber sa hel oct uber sa hel oct sasol randburg uber sa hel oct uber sa hel oct c caltex wate oct c bp hans str oct uber sa hel oct uber sa hel oct pnp express h oct uber sa hel oct uber sa hel oct uber sa hel oct nsiki uber sa hel oct uber sa hel oct uber sa hel oct uber sa hel oct checker bram fischer liquorshop bram fische vod prepay fee pre pay top c caltex fair oct uber sa hel oct uber sa hel oct uber sa hel oct uber sa hel oct uber sa hel oct uber sa hel oct c kfc keywest oct uber sa hel oct spotifyza stockholm sen h fee pos decline insuff fund uber sa gauteng zaf h uber sa hel oct uber sa gauteng zaf h uber sa hel oct spotifyza stockholm sen h c bp hans str oct uber sa hel oct uber sa hel oct uber sa hel oct vod prepay fee pre pay top overdraft interest excess interest c caltex fair oct spotifyza oct intl trans f c bp hans str oct c caltex fair oct c engen paard oct baby pnp express h oct wesbank fi reblake wesbank fi uber sa help oct mr food oct c engen paard oct karen landlord vee claassen claassen management checker bram fischer engen william nicol telkommobi theunlimited aup speccreditfevertree overdraft service fee fix monthly fee karen landlord claassen claassen trainin iwyze prm c checker br oct netflix com oct c pnp liq fer oct uber sa hel oct ucount intl trans f uber sa hel oct uber sa hel oct uber sa hel nov uber sa hel oct flm rennie ho nov flm rennie house eater r checker checker bram fischer uber sa hel nov c kitcheners nov uber sa hel nov c hell kitc nov uber sa hel nov c kitcheners nov uber sa hel nov pnp express h nov bolt eu ou bolt eu ou pnp express l nov liquorshop br nov uber sa hel nov intl trans f intl trans f uber sa hel nov c bp ridge wo nov uber sa hel nov mr food nov r pnp fam liquorshop br nov bolt eu ou pnp express h nov c liquor city nov intl trans f bolt eu ou nov c sasol n n nov intl trans f uber sa hel nov u payfast coo nov c engen paard nov c postnet bra nov flm rennie house eater flm rennie house eater uber sa gauteng zaf h bolt eu nov rsmio resume nov bolt eu nov uberbv help uber co nld h uber sa gauteng zaf h intl trans f intl trans f intl trans f c postnet bra nov uber sa hel nov vod prepay fee pre pay top uber sa hel nov spotifyza nov uber sa hel nov woolworths nov bolt eu nov vod prepay fee pre pay top intl trans f intl trans f mr food z nov uber sa hel nov c engen taher nov bolt eu nov vod prepay fee pre pay top intl trans f bolt eu nov rsmio resume nov bolt eu nov checker bram fischer uber sa gauteng zaf h intl trans f intl trans f intl trans f liquorshop bram fische c liquorshop nov c liquorshop nov bolt eu tallinn zaf h bolt eu tallinn zaf h uber sa gauteng zaf h uberbv help uber co nld h bolt eu tallinn zaf h mr price fern nov pnp liq fernd nov c liquorshop nov flm rennie house eater overdraft interest excess interest bolt eu nov bolt eu nov vod prepay fee pre pay top doppio zer cradlestone zaf intl trans f intl trans f bolt eu nov seattle rennie house intl trans f bolt eu nov uber sa hel nov c sasol r w nov liquorshop bram fische flm rennie house eater intl trans f wesbank fi c doppio zero nov c caltex welt nov bolt eu nov theunlimited aup intl trans f cafe caltex motorserve hell kitchen hell kitchen xai xai lounge wesbank fi bolt eu nov c studio moma nov checker fern nov c checker fe nov bolt eu nov uber sa hel nov top robindale karen landlord r checker vod prepay fee pre pay top intl trans f telkommobi speccreditfevertree intl trans f overdraft service fee fix monthly fee karen landlord magalies vulstasie top magalies spar magalies supr spa sbsanaedo iwyze prm bolt eu nov c bp luipaard nov bolt eu nov bolt eu nov bolt eu nov bolt eu nov c loco liquor nov uber sa hel nov netflix com nov c codf nov pnp exp linden park seattle rennie house intl trans f intl trans f ucount intl trans f intl trans f intl trans f intl trans f uber sa hel nov uber sa hel nov bolt eu dec c caltex fair nov uber sa hel nov c shell parkh nov bolt eu dec uber sa hel nov uber sa hel nov baby intl trans f intl trans f uber sa hel dec uber sa hel dec bolt eu dec bolt eu dec l flysafair dec uber sa hel dec uber sa hel dec uber sa hel dec liquorshop br nov u takealot dec intl trans f intl trans f bolt eu dec mango airli dec u takealot dec bolt eu dec fee bank atm intl trans f intl trans f loco liquore dec liquorshop br dec frg nbastore dec atm cash decline bal provide intl trans f hell kitchen c h clearwa dec spar robindal dec c cltx water dec bolt eu dec caltex fairla dec khaliques oriental pla intl trans f bolt eu dec uber sa hel dec bolt eu tallinn zaf h bolt eu tallinn zaf h intl trans f bolt eu dec bolt eu dec uber sa hel dec uberbv help uber co nld h bolt eu tallinn zaf h payfast eft intl trans f intl trans f rental avis rent johannesburg zaf avis rent johannesburg zaf game gateway circus circus shell uc south bind vod prepay fee pre pay top san lameer country wesbnknaed uber sa hel dec uberbv help uber co nld h spotifyza stockholm sen h theunlimited aup vod prepay fee pre pay top vod prepay fee pre pay top dr mokitimi vee budget spotifyza dec vod prepay fee pre pay top vod prepay fee pre pay top intl trans f baby fee bank atm rsmio resume dec c diner e dec l flysafair dec intl trans f c studio moma dec c caltex fact dec c caltex fair dec woolworths dec c caltex fair dec c bp luipaard dec fee pre pay top fee bank atm intl trans f uber sa gauteng zaf h pnp liq fernd dec c total ra dec hertz rent dec c pnp family dec uber sa hel dec c sweet treat dec c h roseban dec mcd victory p dec uber sa gauteng zaf h fee pos decline insuff fund uber sa gauteng zaf h overdraft interest excess interest c bms intersi dec c foodlovers dec uber sa hel dec c decofurn sp dec c pearl vill dec c engen fairy dec c engen hippo dec c city late dec pnp hpr prosp dec c rhapsodys l dec woolworths dec hertz rent dec c pnp hpr pro dec c engen hippo dec wesbank fi game dionw telkommobi speccreditfevertree overdraft service fee fix monthly fee nokwanda sifiso iwyze prm sbsanaedo netflix com dec sasol ferndale sasol ferndale sasol ferndale checker bram fischer ucount intl trans f bootlegger ferndale pnp express l jan uber sa hel jan bolt eu jan u payfast coo jan intl trans f checker bram jan bolt eu jan intl trans f whc ta dept surger whc department surgery bolt eu jan intl trans f bolt eu jan dischem park station intl trans f c liquor city jan c caltex fair jan bolt eu jan c us powerspo jan intl trans f uber sa hel jan vod prepay fee pre pay top vod prepay fee pre pay top checker bram jan c engen conra jan c engen paard jan mr food z jan vod prepay fee pre pay top seattle rennie house c caltex fair jan spotifyza stockholm sen h liquorshop br jan vod prepay fee pre pay top vod prepay fee pre pay top c total ra jan vod prepay fee pre pay top flm rennie house eater spotifyza stockholm sen h c wimpy key w jan c engen prote jan spotifyza stockholm sen h overdraft interest excess interest bank app prepay purchase vodacom sms notification fee sms notification fee pick n pay birchleigh card sms notification fee sms notification fee pick n pay birchleigh card purchase cash r pep store card till cash withdrawal fee gautrain rhodesfield gauteng card interest receive sms notification fee monthly account admin fee click birchleigh card engen kempton park card online purchase computicket victory park card sms notification fee purchase cash r pick n pay rustenburg card till cash withdrawal fee woolworths rustenburg card flm rustenburg platinu rustenburg card flm rustenburg platinu rustenburg card sms notification fee spar rustenburg card bank app prepay purchase huang mei import e rustenberg card purchase cash r spar rustenburg card till cash withdrawal fee interest receive monthly account admin fee online purchase amzn digital np h card sms notification fee atm cash withdrawal rustenburg thlabane card atm cash withdrawal fee sms notification fee bank app prepay purchase ta flm rennie house eater braamfontein card bank app prepay purchase ta gautrain rhodesfield gauteng card purchase cash r pep store kempton park card till cash withdrawal fee gautrain park tvm gauteng card atm cash withdrawal dnr jnb braamfontein card atm cash withdrawal fee sms notification fee gautrain rhodesfield gauteng card bank app prepay purchase ta sms notification fee bank app prepay purchase mtn sms notification fee bank app cash send c cash send fee sms notification fee flm rennie house eater braamfontein card interest receive sms notification fee monthly account admin fee flm rennie house eater braamfontein card gautrain rhodesfield gauteng card sms notification fee gautrain park tvm gauteng card gautrain rhodesfield gauteng card gautrain park tvm gauteng card eig hostgator honfee r eig hostg game fin carry forward bring forward tithe ommaxperls gb linkage fee explore software vat r tax free save account regensys dstv interest rent maintenance fee cross border checker colum click columbi flm rennie hou explore stockvel airtime w airtime carry forward bring forward airtime w airtime airtime w airtime nedbank send imali airtime w airtime chicken licken carry forward provisional statement bring forward withdrawal facebook hostgator facebk ar eig hostgator nedbank send imali cross border checker colum sasol oakdene click columbi airtime w airtime airtime w airtime interest recieved credit interest payment withdrawal notification sms fee payment withdrawal notification sms fee payment withdrawal notification sms fee payment withdrawal notification sms fee pos purchase woolworths campus squarjohannesburg za pos purchase click campus squarjohannesburg za airtime purchase mtn pos purchase parktown convenience ceparktown za pos purchase makro crownmines crown mine za instant payment pos purchase uber sa help uber com johannesburg inter account tranfer recieved atm withdrawal airtime purchase mtn inter account tranfer recieved payment withdrawal notification sms fee instant payment bank app transfer author network atm cash withdrawal fnb ssc atm card cash withdrawal fee atm sms notification fee flm rennie house eater braamfontein card bank app transfer author network sms notification fee flm rennie house eater braamfontein card bank app prepay purchase cellc bank app prepay purchase cellc bank app transfer author network atm cash withdrawal fnb ssc atm card cash withdrawal fee atm sms notification fee flm rennie house eater braamfontein card flm rennie house eater braamfontein card flm rennie house eater braamfontein card bank app transfer author network atm cash withdrawal fnb ssc atm card cash withdrawal fee atm sms notification fee atm cash deposit cash dep dnr vryburg cash deposit fee note atm cash withdrawal jnb braamfontein atm cash withdrawal fee sms notification fee payment receive explore software transfer sms notification fee atm cash withdrawal jhb glen card airtime debit notific fee sms overseas purchase atm withdrawal jorrisen ibank payment pb reward absa bank ibank payment pos purchase bp fill sta pos purchase bp fill sta acb debit external virgin act management fee'"
      ]
     },
     "execution_count": 28,
     "metadata": {},
     "output_type": "execute_result"
    }
   ],
   "source": [
    "new_features[0]"
   ]
  },
  {
   "cell_type": "code",
   "execution_count": 29,
   "metadata": {},
   "outputs": [
    {
     "name": "stdout",
     "output_type": "stream",
     "text": [
      "  (0, 119)\t0.0025916913455350794\n",
      "  (0, 1)\t0.0025916913455350794\n",
      "  (0, 376)\t0.005183382691070159\n",
      "  (0, 138)\t0.005183382691070159\n",
      "  (0, 334)\t0.0025916913455350794\n",
      "  (0, 291)\t0.0025916913455350794\n",
      "  (0, 182)\t0.005183382691070159\n",
      "  (0, 201)\t0.0025916913455350794\n",
      "  (0, 280)\t0.0025916913455350794\n",
      "  (0, 265)\t0.0025916913455350794\n",
      "  (0, 88)\t0.005183382691070159\n",
      "  (0, 162)\t0.0025916913455350794\n",
      "  (0, 198)\t0.0025916913455350794\n",
      "  (0, 264)\t0.0025916913455350794\n",
      "  (0, 429)\t0.0025916913455350794\n",
      "  (0, 93)\t0.0025916913455350794\n",
      "  (0, 95)\t0.005183382691070159\n",
      "  (0, 50)\t0.005183382691070159\n",
      "  (0, 375)\t0.007775074036605239\n",
      "  (0, 145)\t0.007775074036605239\n",
      "  (0, 259)\t0.010366765382140318\n",
      "  (0, 17)\t0.010366765382140318\n",
      "  (0, 408)\t0.005183382691070159\n",
      "  (0, 189)\t0.005183382691070159\n",
      "  (0, 186)\t0.005183382691070159\n",
      "  :\t:\n",
      "  (0, 67)\t0.015550148073210477\n",
      "  (0, 26)\t0.007775074036605239\n",
      "  (0, 194)\t0.0025916913455350794\n",
      "  (0, 193)\t0.005183382691070159\n",
      "  (0, 341)\t0.0025916913455350794\n",
      "  (0, 312)\t0.0025916913455350794\n",
      "  (0, 35)\t0.05960890094730683\n",
      "  (0, 109)\t0.06997566632944714\n",
      "  (0, 327)\t0.08293412305712254\n",
      "  (0, 143)\t0.08034243171158746\n",
      "  (0, 200)\t0.04405875287409635\n",
      "  (0, 177)\t0.10625934516693826\n",
      "  (0, 328)\t0.028508604800885875\n",
      "  (0, 355)\t0.03628367883749111\n",
      "  (0, 443)\t0.11921780189461366\n",
      "  (0, 165)\t0.0025916913455350794\n",
      "  (0, 284)\t0.005183382691070159\n",
      "  (0, 183)\t0.005183382691070159\n",
      "  (0, 78)\t0.0025916913455350794\n",
      "  (0, 23)\t0.005183382691070159\n",
      "  (0, 71)\t0.023325222109815715\n",
      "  (0, 10)\t0.005183382691070159\n",
      "  (0, 40)\t0.005183382691070159\n",
      "  (0, 87)\t0.005183382691070159\n",
      "  (0, 252)\t0.015550148073210477\n"
     ]
    }
   ],
   "source": [
    "obj = TfidfVectorizer()\n",
    "final_features = obj.fit_transform(new_features)\n",
    "print(final_features[0])"
   ]
  },
  {
   "cell_type": "code",
   "execution_count": 30,
   "metadata": {},
   "outputs": [],
   "source": [
    "X_train, X_test, y_train, y_test = train_test_split(final_features, y.values, test_size=0.20)"
   ]
  },
  {
   "cell_type": "code",
   "execution_count": 31,
   "metadata": {},
   "outputs": [],
   "source": [
    "from sklearn.svm import LinearSVC\n",
    "cls = LinearSVC(multi_class='crammer_singer', dual=False, fit_intercept=False)"
   ]
  },
  {
   "cell_type": "code",
   "execution_count": 32,
   "metadata": {},
   "outputs": [
    {
     "name": "stderr",
     "output_type": "stream",
     "text": [
      "C:\\ProgramData\\Anaconda3\\lib\\site-packages\\sklearn\\svm\\base.py:929: ConvergenceWarning: Liblinear failed to converge, increase the number of iterations.\n",
      "  \"the number of iterations.\", ConvergenceWarning)\n"
     ]
    }
   ],
   "source": [
    "y_pred = cls.fit(X_train, y_train.ravel())"
   ]
  },
  {
   "cell_type": "code",
   "execution_count": 33,
   "metadata": {},
   "outputs": [],
   "source": [
    "pred1 = cls.predict(X_test)"
   ]
  },
  {
   "cell_type": "code",
   "execution_count": 34,
   "metadata": {},
   "outputs": [
    {
     "name": "stdout",
     "output_type": "stream",
     "text": [
      "Mean squared error: 10.29\n"
     ]
    }
   ],
   "source": [
    "print(\"Mean squared error: %.2f\"\n",
    "      % mean_squared_error(y_test, pred1))"
   ]
  },
  {
   "cell_type": "code",
   "execution_count": 35,
   "metadata": {},
   "outputs": [
    {
     "name": "stdout",
     "output_type": "stream",
     "text": [
      "              precision    recall  f1-score   support\n",
      "\n",
      "           0       0.32      1.00      0.49        61\n",
      "           1       0.00      0.00      0.00        47\n",
      "           2       0.00      0.00      0.00        38\n",
      "           3       0.00      0.00      0.00        10\n",
      "           4       0.00      0.00      0.00         7\n",
      "           5       0.00      0.00      0.00         7\n",
      "           6       0.00      0.00      0.00         2\n",
      "           7       0.00      0.00      0.00         5\n",
      "           8       0.00      0.00      0.00         2\n",
      "           9       0.00      0.00      0.00         4\n",
      "          10       0.00      0.00      0.00         6\n",
      "\n",
      "    accuracy                           0.32       189\n",
      "   macro avg       0.03      0.09      0.04       189\n",
      "weighted avg       0.10      0.32      0.16       189\n",
      "\n"
     ]
    },
    {
     "name": "stderr",
     "output_type": "stream",
     "text": [
      "C:\\ProgramData\\Anaconda3\\lib\\site-packages\\sklearn\\metrics\\classification.py:1437: UndefinedMetricWarning: Precision and F-score are ill-defined and being set to 0.0 in labels with no predicted samples.\n",
      "  'precision', 'predicted', average, warn_for)\n"
     ]
    }
   ],
   "source": [
    "print(classification_report(y_test, pred1))"
   ]
  },
  {
   "cell_type": "code",
   "execution_count": 36,
   "metadata": {},
   "outputs": [
    {
     "data": {
      "text/html": [
       "<div>\n",
       "<style scoped>\n",
       "    .dataframe tbody tr th:only-of-type {\n",
       "        vertical-align: middle;\n",
       "    }\n",
       "\n",
       "    .dataframe tbody tr th {\n",
       "        vertical-align: top;\n",
       "    }\n",
       "\n",
       "    .dataframe thead th {\n",
       "        text-align: right;\n",
       "    }\n",
       "</style>\n",
       "<table border=\"1\" class=\"dataframe\">\n",
       "  <thead>\n",
       "    <tr style=\"text-align: right;\">\n",
       "      <th></th>\n",
       "      <th>PredictItem_ID</th>\n",
       "    </tr>\n",
       "  </thead>\n",
       "  <tbody>\n",
       "    <tr>\n",
       "      <td>0</td>\n",
       "      <td>0</td>\n",
       "    </tr>\n",
       "    <tr>\n",
       "      <td>1</td>\n",
       "      <td>0</td>\n",
       "    </tr>\n",
       "    <tr>\n",
       "      <td>2</td>\n",
       "      <td>0</td>\n",
       "    </tr>\n",
       "    <tr>\n",
       "      <td>3</td>\n",
       "      <td>0</td>\n",
       "    </tr>\n",
       "    <tr>\n",
       "      <td>4</td>\n",
       "      <td>0</td>\n",
       "    </tr>\n",
       "  </tbody>\n",
       "</table>\n",
       "</div>"
      ],
      "text/plain": [
       "   PredictItem_ID\n",
       "0               0\n",
       "1               0\n",
       "2               0\n",
       "3               0\n",
       "4               0"
      ]
     },
     "execution_count": 36,
     "metadata": {},
     "output_type": "execute_result"
    }
   ],
   "source": [
    "y_predicted = pd.DataFrame({'PredictItem_ID':pred1})\n",
    "y_predicted.head()"
   ]
  },
  {
   "cell_type": "code",
   "execution_count": 37,
   "metadata": {},
   "outputs": [
    {
     "data": {
      "text/html": [
       "<div>\n",
       "<style scoped>\n",
       "    .dataframe tbody tr th:only-of-type {\n",
       "        vertical-align: middle;\n",
       "    }\n",
       "\n",
       "    .dataframe tbody tr th {\n",
       "        vertical-align: top;\n",
       "    }\n",
       "\n",
       "    .dataframe thead th {\n",
       "        text-align: right;\n",
       "    }\n",
       "</style>\n",
       "<table border=\"1\" class=\"dataframe\">\n",
       "  <thead>\n",
       "    <tr style=\"text-align: right;\">\n",
       "      <th></th>\n",
       "      <th>PredictItem_ID</th>\n",
       "      <th>ItemCategory_New</th>\n",
       "    </tr>\n",
       "  </thead>\n",
       "  <tbody>\n",
       "    <tr>\n",
       "      <td>0</td>\n",
       "      <td>0</td>\n",
       "      <td>transport</td>\n",
       "    </tr>\n",
       "    <tr>\n",
       "      <td>1</td>\n",
       "      <td>0</td>\n",
       "      <td>transport</td>\n",
       "    </tr>\n",
       "    <tr>\n",
       "      <td>2</td>\n",
       "      <td>0</td>\n",
       "      <td>transport</td>\n",
       "    </tr>\n",
       "    <tr>\n",
       "      <td>3</td>\n",
       "      <td>0</td>\n",
       "      <td>transport</td>\n",
       "    </tr>\n",
       "    <tr>\n",
       "      <td>4</td>\n",
       "      <td>0</td>\n",
       "      <td>transport</td>\n",
       "    </tr>\n",
       "  </tbody>\n",
       "</table>\n",
       "</div>"
      ],
      "text/plain": [
       "   PredictItem_ID ItemCategory_New\n",
       "0               0        transport\n",
       "1               0        transport\n",
       "2               0        transport\n",
       "3               0        transport\n",
       "4               0        transport"
      ]
     },
     "execution_count": 37,
     "metadata": {},
     "output_type": "execute_result"
    }
   ],
   "source": [
    "mapping = dict(y_unique[['New_ID','index']].values)\n",
    "y_predicted['ItemCategory_New'] = y_predicted.PredictItem_ID.map(mapping)\n",
    "y_predicted.head()"
   ]
  },
  {
   "cell_type": "code",
   "execution_count": 38,
   "metadata": {},
   "outputs": [
    {
     "data": {
      "text/plain": [
       "array([['transport'],\n",
       "       ['transport'],\n",
       "       ['transport'],\n",
       "       ['transport'],\n",
       "       ['transport']], dtype=object)"
      ]
     },
     "execution_count": 38,
     "metadata": {},
     "output_type": "execute_result"
    }
   ],
   "source": [
    "\n",
    "y_predicted = np.array(y_predicted.drop('PredictItem_ID', axis=1))\n",
    "y_predicted[:5]"
   ]
  },
  {
   "cell_type": "code",
   "execution_count": 39,
   "metadata": {},
   "outputs": [],
   "source": [
    "submission = pd.DataFrame({'description' : features2[X_train.shape[0]:],'category' : y_predicted.ravel()})"
   ]
  },
  {
   "cell_type": "code",
   "execution_count": 40,
   "metadata": {},
   "outputs": [
    {
     "data": {
      "text/html": [
       "<div>\n",
       "<style scoped>\n",
       "    .dataframe tbody tr th:only-of-type {\n",
       "        vertical-align: middle;\n",
       "    }\n",
       "\n",
       "    .dataframe tbody tr th {\n",
       "        vertical-align: top;\n",
       "    }\n",
       "\n",
       "    .dataframe thead th {\n",
       "        text-align: right;\n",
       "    }\n",
       "</style>\n",
       "<table border=\"1\" class=\"dataframe\">\n",
       "  <thead>\n",
       "    <tr style=\"text-align: right;\">\n",
       "      <th></th>\n",
       "      <th>description</th>\n",
       "      <th>category</th>\n",
       "    </tr>\n",
       "  </thead>\n",
       "  <tbody>\n",
       "    <tr>\n",
       "      <td>0</td>\n",
       "      <td>FEE - PRE-PAID TOP UP</td>\n",
       "      <td>transport</td>\n",
       "    </tr>\n",
       "    <tr>\n",
       "      <td>1</td>\n",
       "      <td>CHECKERS BRAM 5326*9249 11 JAN</td>\n",
       "      <td>transport</td>\n",
       "    </tr>\n",
       "    <tr>\n",
       "      <td>2</td>\n",
       "      <td>C*ENGEN CONRA 5326*9249 13 JAN</td>\n",
       "      <td>transport</td>\n",
       "    </tr>\n",
       "    <tr>\n",
       "      <td>3</td>\n",
       "      <td>C*ENGEN PAARD 5326*9249 13 JAN</td>\n",
       "      <td>transport</td>\n",
       "    </tr>\n",
       "    <tr>\n",
       "      <td>4</td>\n",
       "      <td>I*MR D FOOD Z 5326*9249 14 JAN</td>\n",
       "      <td>transport</td>\n",
       "    </tr>\n",
       "  </tbody>\n",
       "</table>\n",
       "</div>"
      ],
      "text/plain": [
       "                      description   category\n",
       "0           FEE - PRE-PAID TOP UP  transport\n",
       "1  CHECKERS BRAM 5326*9249 11 JAN  transport\n",
       "2  C*ENGEN CONRA 5326*9249 13 JAN  transport\n",
       "3  C*ENGEN PAARD 5326*9249 13 JAN  transport\n",
       "4  I*MR D FOOD Z 5326*9249 14 JAN  transport"
      ]
     },
     "execution_count": 40,
     "metadata": {},
     "output_type": "execute_result"
    }
   ],
   "source": [
    "submission.head()"
   ]
  },
  {
   "cell_type": "code",
   "execution_count": null,
   "metadata": {},
   "outputs": [],
   "source": []
  },
  {
   "cell_type": "code",
   "execution_count": null,
   "metadata": {},
   "outputs": [],
   "source": []
  },
  {
   "cell_type": "code",
   "execution_count": null,
   "metadata": {},
   "outputs": [],
   "source": []
  },
  {
   "cell_type": "code",
   "execution_count": null,
   "metadata": {},
   "outputs": [],
   "source": []
  },
  {
   "cell_type": "code",
   "execution_count": null,
   "metadata": {},
   "outputs": [],
   "source": []
  }
 ],
 "metadata": {
  "kernelspec": {
   "display_name": "Python 3",
   "language": "python",
   "name": "python3"
  },
  "language_info": {
   "codemirror_mode": {
    "name": "ipython",
    "version": 3
   },
   "file_extension": ".py",
   "mimetype": "text/x-python",
   "name": "python",
   "nbconvert_exporter": "python",
   "pygments_lexer": "ipython3",
   "version": "3.7.4"
  }
 },
 "nbformat": 4,
 "nbformat_minor": 2
}
